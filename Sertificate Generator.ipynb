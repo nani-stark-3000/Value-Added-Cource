{
 "cells": [
  {
   "attachments": {},
   "cell_type": "markdown",
   "metadata": {},
   "source": [
    "Certificate"
   ]
  },
  {
   "cell_type": "code",
   "execution_count": 5,
   "metadata": {},
   "outputs": [
    {
     "name": "stdout",
     "output_type": "stream",
     "text": [
      "certificate generated successfully\n"
     ]
    }
   ],
   "source": [
    "import cv2\n",
    "\n",
    "def certificate(list):\n",
    "    template = cv2.imread('student certificate.png')\n",
    "    cv2.putText(template,list[0],(400,266),cv2.FONT_HERSHEY_COMPLEX,0.6,(0,0,255),1,cv2.LINE_AA)\n",
    "    cv2.putText(template,list[1],(380,307),cv2.FONT_HERSHEY_COMPLEX,0.6,(0,0,255),1,cv2.LINE_AA)\n",
    "    cv2.putText(template,list[2],(150,345),cv2.FONT_HERSHEY_COMPLEX,0.6,(0,0,255),1,cv2.LINE_AA)\n",
    "    cv2.putText(template,list[3],(330,380),cv2.FONT_HERSHEY_COMPLEX,0.6,(0,0,255),1,cv2.LINE_AA)\n",
    "    cv2.putText(template,list[4],(237,418),cv2.FONT_HERSHEY_COMPLEX,0.6,(0,0,255),1,cv2.LINE_AA)\n",
    "    cv2.putText(template,list[5],(460,418),cv2.FONT_HERSHEY_COMPLEX,0.6,(0,0,255),1,cv2.LINE_AA)\n",
    "    cv2.putText(template,list[6],(630,418),cv2.FONT_HERSHEY_COMPLEX,0.6,(0,0,255),1,cv2.LINE_AA)\n",
    "    cv2.putText(template,list[7],(140,454),cv2.FONT_HERSHEY_COMPLEX,0.6,(0,0,255),1,cv2.LINE_AA)\n",
    "    cv2.putText(template,list[8],(300,524),cv2.FONT_HERSHEY_COMPLEX,0.6,(0,0,255),1,cv2.LINE_AA)\n",
    "    cv2.imwrite(f'{list[0]}.png',template)\n",
    "    print(\"certificate generated successfully\")\n",
    "certificate(list)\n"
   ]
  },
  {
   "attachments": {},
   "cell_type": "markdown",
   "metadata": {},
   "source": [
    "Details"
   ]
  },
  {
   "cell_type": "code",
   "execution_count": 4,
   "metadata": {},
   "outputs": [],
   "source": [
    "list = ['nani','Civil','22L31A0161','python','2022-26','16-10-2022','14-02-2023','B-Tech','Excelent']"
   ]
  },
  {
   "attachments": {},
   "cell_type": "markdown",
   "metadata": {},
   "source": [
    "Image-to-PDF"
   ]
  },
  {
   "cell_type": "code",
   "execution_count": 3,
   "metadata": {},
   "outputs": [],
   "source": [
    "from PIL import Image\n",
    "\n",
    "image_1 = Image.open(f'{list[0]}.png')\n",
    "im_1 = image_1.convert('RGB')\n",
    "im_1.save(f'{list[0]}.pdf')"
   ]
  },
  {
   "cell_type": "code",
   "execution_count": 1,
   "metadata": {},
   "outputs": [
    {
     "ename": "FileNotFoundError",
     "evalue": "[Errno 2] No such file or directory: 'list[0].png'",
     "output_type": "error",
     "traceback": [
      "\u001b[1;31m---------------------------------------------------------------------------\u001b[0m",
      "\u001b[1;31mFileNotFoundError\u001b[0m                         Traceback (most recent call last)",
      "Cell \u001b[1;32mIn[1], line 7\u001b[0m\n\u001b[0;32m      5\u001b[0m img_path \u001b[39m=\u001b[39m (\u001b[39mf\u001b[39m\u001b[39m'\u001b[39m\u001b[39m{\u001b[39;00m\u001b[39mlist\u001b[39m[\u001b[39m0\u001b[39m]\u001b[39m}\u001b[39;00m\u001b[39m.png\u001b[39m\u001b[39m'\u001b[39m)\n\u001b[0;32m      6\u001b[0m pdf_path \u001b[39m=\u001b[39m (\u001b[39mf\u001b[39m\u001b[39m'\u001b[39m\u001b[39m{\u001b[39;00m\u001b[39mlist\u001b[39m[\u001b[39m0\u001b[39m]\u001b[39m}\u001b[39;00m\u001b[39m.pdf\u001b[39m\u001b[39m'\u001b[39m)\n\u001b[1;32m----> 7\u001b[0m image \u001b[39m=\u001b[39m Image\u001b[39m.\u001b[39;49mopen(img_path)\n\u001b[0;32m      9\u001b[0m \u001b[39m# converting into chunks using img2pdf\u001b[39;00m\n\u001b[0;32m     10\u001b[0m pdf_bytes \u001b[39m=\u001b[39m img2pdf\u001b[39m.\u001b[39mconvert(image\u001b[39m.\u001b[39mfilename)\n",
      "File \u001b[1;32mc:\\Users\\nanin\\AppData\\Local\\Programs\\Python\\Python311\\Lib\\site-packages\\PIL\\Image.py:3131\u001b[0m, in \u001b[0;36mopen\u001b[1;34m(fp, mode, formats)\u001b[0m\n\u001b[0;32m   3128\u001b[0m     filename \u001b[39m=\u001b[39m fp\n\u001b[0;32m   3130\u001b[0m \u001b[39mif\u001b[39;00m filename:\n\u001b[1;32m-> 3131\u001b[0m     fp \u001b[39m=\u001b[39m builtins\u001b[39m.\u001b[39;49mopen(filename, \u001b[39m\"\u001b[39;49m\u001b[39mrb\u001b[39;49m\u001b[39m\"\u001b[39;49m)\n\u001b[0;32m   3132\u001b[0m     exclusive_fp \u001b[39m=\u001b[39m \u001b[39mTrue\u001b[39;00m\n\u001b[0;32m   3134\u001b[0m \u001b[39mtry\u001b[39;00m:\n",
      "\u001b[1;31mFileNotFoundError\u001b[0m: [Errno 2] No such file or directory: 'list[0].png'"
     ]
    }
   ],
   "source": [
    "import img2pdf\n",
    "from PIL import Image\n",
    "import os\n",
    "  \n",
    "img_path = (f'{list[0]}.png')\n",
    "pdf_path = (f'{list[0]}.pdf')\n",
    "image = Image.open(img_path)\n",
    "  \n",
    "# converting into chunks using img2pdf\n",
    "pdf_bytes = img2pdf.convert(image.filename)\n",
    "  \n",
    "# opening or creating pdf file\n",
    "file = open(pdf_path, \"wb\")\n",
    "  \n",
    "# writing pdf files with chunks\n",
    "file.write(pdf_bytes)\n",
    "  \n",
    "# closing image file\n",
    "image.close()\n",
    "  \n",
    "# closing pdf file\n",
    "file.close()\n",
    "  \n",
    "# output\n",
    "print(\"Successfully made pdf file\")"
   ]
  },
  {
   "cell_type": "code",
   "execution_count": null,
   "metadata": {},
   "outputs": [],
   "source": []
  }
 ],
 "metadata": {
  "kernelspec": {
   "display_name": "Python 3",
   "language": "python",
   "name": "python3"
  },
  "language_info": {
   "codemirror_mode": {
    "name": "ipython",
    "version": 3
   },
   "file_extension": ".py",
   "mimetype": "text/x-python",
   "name": "python",
   "nbconvert_exporter": "python",
   "pygments_lexer": "ipython3",
   "version": "3.11.2"
  },
  "orig_nbformat": 4,
  "vscode": {
   "interpreter": {
    "hash": "b3d843af41e23c55276daba9d5fda5b2b8899bdda954b7840596216b657bf9ef"
   }
  }
 },
 "nbformat": 4,
 "nbformat_minor": 2
}
